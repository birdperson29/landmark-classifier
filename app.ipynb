{
 "cells": [
  {
   "cell_type": "markdown",
   "id": "e08131a2",
   "metadata": {},
   "source": [
    "# Convolutional Neural Networks\n",
    "\n",
    "## Project: Write an Algorithm for Landmark Classification\n",
    "\n",
    "### A simple app\n",
    "\n",
    "In this notebook we build a very simple app that uses our exported model.\n",
    "\n",
    "> <img src=\"static_images/icons/noun-info-2558213.png\" alt=\"?\" style=\"width:25px\"/> Note how we are not importing anything from our source code (we do not use any module from the ``src`` directory). This is because the exported model, differently from the model weights, is a standalone serialization of our model and therefore it does not need anything else. You can ship that file to anybody, and as long as they can import ``torch``, they will be able to use your model. This is very important for releasing pytorch models to production.\n",
    "\n",
    "### Test your app\n",
    "Go to a search engine for images (like Google Images) and search for images of some of the landmarks, like the Eiffel Tower, the Golden Gate Bridge, Machu Picchu and so on. Save a few examples locally, then upload them to your app to see how your model behaves!\n",
    "\n",
    "The app will show the top 5 classes that the model think are most relevant for the picture you have uploaded"
   ]
  },
  {
   "cell_type": "code",
   "execution_count": 21,
   "id": "c3df8841",
   "metadata": {},
   "outputs": [
    {
     "data": {
      "application/vnd.jupyter.widget-view+json": {
       "model_id": "68b5a5569f1742fe9a504ed2d4e67b38",
       "version_major": 2,
       "version_minor": 0
      },
      "text/plain": [
       "VBox(children=(Label(value='Please upload a picture of a landmark'), FileUpload(value=(), description='Upload'…"
      ]
     },
     "metadata": {},
     "output_type": "display_data"
    },
    {
     "name": "stdout",
     "output_type": "stream",
     "text": [
      "{'name': '0107a8f09aeceb03.jpg', 'type': 'image/jpeg', 'size': 163369, 'content': <memory at 0x00000277756DE080>, 'last_modified': datetime.datetime(2024, 8, 12, 5, 55, 4, 646000, tzinfo=datetime.timezone.utc)}\n",
      "<memory at 0x00000277756DE080>\n"
     ]
    },
    {
     "name": "stderr",
     "output_type": "stream",
     "text": [
      "code/__torch__/torchvision/transforms/functional.py:188: UserWarning: The default value of the antialias parameter of all the resizing transforms (Resize(), RandomResizedCrop(), etc.) will change from None to True in v0.17, in order to be consistent across the PIL and Tensor backends. To suppress this warning, directly pass antialias=True (recommended, future default), antialias=None (current default, which means False for Tensors and True for PIL), or antialias=False (only works on Tensors - PIL will still use antialiasing). This also applies if you are using the inference transforms from the models weights: update the call to weights.transforms(antialias=True).\n"
     ]
    }
   ],
   "source": [
    "from ipywidgets import VBox, Button, FileUpload, Output, Label\n",
    "from PIL import Image\n",
    "from IPython.display import display\n",
    "import io\n",
    "import numpy as np\n",
    "import torchvision.transforms as T\n",
    "import torch\n",
    "\n",
    "# Load the model\n",
    "learn_inf = torch.jit.load(\"checkpoints/transfer_exported.pt\")\n",
    "\n",
    "def on_click_classify(change):\n",
    "    # Load image that has been uploaded\n",
    "    if btn_upload.value:\n",
    "        \n",
    "        uploaded_filename = next(iter(btn_upload.value))\n",
    "        print(uploaded_filename)\n",
    "      \n",
    "        content = uploaded_filename['content']\n",
    "        print(content) \n",
    "        \n",
    "        # Load the image from the uploaded file\n",
    "        fn = io.BytesIO(content)\n",
    "        img = Image.open(fn)\n",
    "        img.load()\n",
    "\n",
    "        out_pl.clear_output()\n",
    "\n",
    "        with out_pl:\n",
    "            ratio = img.size[0] / img.size[1]\n",
    "            c = img.copy()\n",
    "            c.thumbnail([ratio * 200, 200])\n",
    "            display(c)\n",
    "\n",
    "        timg = T.ToTensor()(img).unsqueeze_(0)\n",
    "\n",
    "        softmax = learn_inf(timg).data.cpu().numpy().squeeze()\n",
    "\n",
    "        # Get the indexes of the classes ordered by softmax\n",
    "        idxs = np.argsort(softmax)[::-1]\n",
    "\n",
    "        # Loop over the classes with the largest softmax\n",
    "        for i in range(5):\n",
    "            # Get softmax value\n",
    "            p = softmax[idxs[i]]\n",
    "\n",
    "            # Get class name\n",
    "            landmark_name = learn_inf.class_names[idxs[i]]\n",
    "\n",
    "            labels[i].value = f\"{landmark_name} (prob: {p:.2f})\"\n",
    "\n",
    "btn_upload = FileUpload()\n",
    "\n",
    "btn_run = Button(description=\"Classify\")\n",
    "btn_run.on_click(on_click_classify)\n",
    "\n",
    "\n",
    "labels = [Label() for _ in range(5)]\n",
    "\n",
    "\n",
    "out_pl = Output()\n",
    "out_pl.clear_output()\n",
    "\n",
    "# Assembling the widgets\n",
    "wgs = [Label(\"Please upload a picture of a landmark\"), btn_upload, btn_run, out_pl]\n",
    "wgs.extend(labels)\n",
    "\n",
    "# Display the assembled widgets\n",
    "display(VBox(wgs))\n"
   ]
  },
  {
   "cell_type": "markdown",
   "id": "fc11d687",
   "metadata": {},
   "source": [
    "## (optional) Standalone app or web app\n",
    "\n",
    "You can run this notebook as a standalone app on your computer by following these steps:\n",
    "\n",
    "1. Download this notebook in a directory on your machine\n",
    "2. Download the model export (for example, ``checkpoints/transfer_exported.pt``) in a subdirectory called ``checkpoints`` within the directory where you save the app.ipynb notebook\n",
    "3. Install voila if you don't have it already (``pip install voila``)\n",
    "4. Run your app: ``voila app.ipynb --show_tracebacks=True``\n",
    "5. Customize your notebook to make your app prettier and rerun voila\n",
    "\n",
    "You can also deploy this app as a website using Binder: https://voila.readthedocs.io/en/stable/deploy.html#deployment-on-binder"
   ]
  },
  {
   "cell_type": "markdown",
   "id": "33508620",
   "metadata": {},
   "source": [
    "# Create your submission archive\n",
    "\n",
    "Now that you are done with your project, please run the following cell. It will generate a file containing all the code you have written, as well as the notebooks. Please submit that file to complete your project"
   ]
  },
  {
   "cell_type": "code",
   "execution_count": 23,
   "id": "c8dcc732",
   "metadata": {},
   "outputs": [
    {
     "name": "stdout",
     "output_type": "stream",
     "text": [
      "executing: jupyter nbconvert --to html app.ipynb\n",
      "executing: jupyter nbconvert --to html cnn_from_scratch.ipynb\n"
     ]
    },
    {
     "name": "stderr",
     "output_type": "stream",
     "text": [
      "[NbConvertApp] Converting notebook app.ipynb to html\n",
      "[NbConvertApp] Writing 600733 bytes to app.html\n",
      "[NbConvertApp] Converting notebook cnn_from_scratch.ipynb to html\n",
      "Traceback (most recent call last):\n",
      "  File \"<frozen runpy>\", line 198, in _run_module_as_main\n",
      "  File \"<frozen runpy>\", line 88, in _run_code\n",
      "  File \"C:\\Users\\sejal\\AppData\\Local\\Programs\\Python\\Python311\\Scripts\\jupyter-nbconvert.EXE\\__main__.py\", line 7, in <module>\n",
      "  File \"C:\\Users\\sejal\\AppData\\Local\\Programs\\Python\\Python311\\Lib\\site-packages\\jupyter_core\\application.py\", line 277, in launch_instance\n",
      "    return super().launch_instance(argv=argv, **kwargs)\n",
      "           ^^^^^^^^^^^^^^^^^^^^^^^^^^^^^^^^^^^^^^^^^^^^\n",
      "  File \"C:\\Users\\sejal\\AppData\\Local\\Programs\\Python\\Python311\\Lib\\site-packages\\traitlets\\config\\application.py\", line 1043, in launch_instance\n",
      "    app.start()\n",
      "  File \"C:\\Users\\sejal\\AppData\\Local\\Programs\\Python\\Python311\\Lib\\site-packages\\nbconvert\\nbconvertapp.py\", line 418, in start\n",
      "    self.convert_notebooks()\n",
      "  File \"C:\\Users\\sejal\\AppData\\Local\\Programs\\Python\\Python311\\Lib\\site-packages\\nbconvert\\nbconvertapp.py\", line 592, in convert_notebooks\n",
      "    self.convert_single_notebook(notebook_filename)\n",
      "  File \"C:\\Users\\sejal\\AppData\\Local\\Programs\\Python\\Python311\\Lib\\site-packages\\nbconvert\\nbconvertapp.py\", line 555, in convert_single_notebook\n",
      "    output, resources = self.export_single_notebook(\n",
      "                        ^^^^^^^^^^^^^^^^^^^^^^^^^^^^\n",
      "  File \"C:\\Users\\sejal\\AppData\\Local\\Programs\\Python\\Python311\\Lib\\site-packages\\nbconvert\\nbconvertapp.py\", line 483, in export_single_notebook\n",
      "    output, resources = self.exporter.from_filename(\n",
      "                        ^^^^^^^^^^^^^^^^^^^^^^^^^^^^\n",
      "  File \"C:\\Users\\sejal\\AppData\\Local\\Programs\\Python\\Python311\\Lib\\site-packages\\nbconvert\\exporters\\templateexporter.py\", line 383, in from_filename\n",
      "    return super().from_filename(filename, resources, **kw)  # type:ignore\n",
      "           ^^^^^^^^^^^^^^^^^^^^^^^^^^^^^^^^^^^^^^^^^^^^^^^^\n",
      "  File \"C:\\Users\\sejal\\AppData\\Local\\Programs\\Python\\Python311\\Lib\\site-packages\\nbconvert\\exporters\\exporter.py\", line 198, in from_filename\n",
      "    return self.from_file(f, resources=resources, **kw)\n",
      "           ^^^^^^^^^^^^^^^^^^^^^^^^^^^^^^^^^^^^^^^^^^^^\n",
      "  File \"C:\\Users\\sejal\\AppData\\Local\\Programs\\Python\\Python311\\Lib\\site-packages\\nbconvert\\exporters\\templateexporter.py\", line 389, in from_file\n",
      "    return super().from_file(file_stream, resources, **kw)  # type:ignore\n",
      "           ^^^^^^^^^^^^^^^^^^^^^^^^^^^^^^^^^^^^^^^^^^^^^^^\n",
      "  File \"C:\\Users\\sejal\\AppData\\Local\\Programs\\Python\\Python311\\Lib\\site-packages\\nbconvert\\exporters\\exporter.py\", line 217, in from_file\n",
      "    return self.from_notebook_node(\n",
      "           ^^^^^^^^^^^^^^^^^^^^^^^^\n",
      "  File \"C:\\Users\\sejal\\AppData\\Local\\Programs\\Python\\Python311\\Lib\\site-packages\\nbconvert\\exporters\\html.py\", line 229, in from_notebook_node\n",
      "    return super().from_notebook_node(nb, resources, **kw)\n",
      "           ^^^^^^^^^^^^^^^^^^^^^^^^^^^^^^^^^^^^^^^^^^^^^^^\n",
      "  File \"C:\\Users\\sejal\\AppData\\Local\\Programs\\Python\\Python311\\Lib\\site-packages\\nbconvert\\exporters\\templateexporter.py\", line 421, in from_notebook_node\n",
      "    output = self.template.render(nb=nb_copy, resources=resources)\n",
      "             ^^^^^^^^^^^^^^^^^^^^^^^^^^^^^^^^^^^^^^^^^^^^^^^^^^^^^\n",
      "  File \"C:\\Users\\sejal\\AppData\\Local\\Programs\\Python\\Python311\\Lib\\site-packages\\jinja2\\environment.py\", line 1301, in render\n",
      "    self.environment.handle_exception()\n",
      "  File \"C:\\Users\\sejal\\AppData\\Local\\Programs\\Python\\Python311\\Lib\\site-packages\\jinja2\\environment.py\", line 936, in handle_exception\n",
      "    raise rewrite_traceback_stack(source=source)\n",
      "  File \"C:\\Users\\sejal\\AppData\\Local\\Programs\\Python\\Python311\\share\\jupyter\\nbconvert\\templates\\lab\\index.html.j2\", line 3, in top-level template code\n",
      "    {% from 'jupyter_widgets.html.j2' import jupyter_widgets %}\n",
      "    ^^^^^^^^^^^^^^^^^^^^^^^^^\n",
      "  File \"C:\\Users\\sejal\\AppData\\Local\\Programs\\Python\\Python311\\share\\jupyter\\nbconvert\\templates\\lab\\base.html.j2\", line 2, in top-level template code\n",
      "    {% from 'celltags.j2' import celltags %}\n",
      "    ^^^^^^^^^^^^^^^^^^^^^^^^^\n",
      "  File \"C:\\Users\\sejal\\AppData\\Local\\Programs\\Python\\Python311\\share\\jupyter\\nbconvert\\templates\\base\\display_priority.j2\", line 1, in top-level template code\n",
      "    {%- extends 'base/null.j2' -%}\n",
      "    ^^^^^^^^^^^^^^^^^^^^^^^^^\n",
      "  File \"C:\\Users\\sejal\\AppData\\Local\\Programs\\Python\\Python311\\share\\jupyter\\nbconvert\\templates\\base\\null.j2\", line 26, in top-level template code\n",
      "    {%- block body -%}\n",
      "    ^^^^^^^^^^^^^^^^^^^\n",
      "  File \"C:\\Users\\sejal\\AppData\\Local\\Programs\\Python\\Python311\\share\\jupyter\\nbconvert\\templates\\base\\null.j2\", line 29, in block 'body'\n",
      "    {%- block body_loop -%}\n",
      "^^^^^^^^^^^^^^^^^^^^^^^^^\n",
      "  File \"C:\\Users\\sejal\\AppData\\Local\\Programs\\Python\\Python311\\share\\jupyter\\nbconvert\\templates\\base\\null.j2\", line 31, in block 'body_loop'\n",
      "    {%- block any_cell scoped -%}\n",
      "^^^^^^^^^^^^^^^^^\n",
      "  File \"C:\\Users\\sejal\\AppData\\Local\\Programs\\Python\\Python311\\share\\jupyter\\nbconvert\\templates\\base\\null.j2\", line 87, in block 'any_cell'\n",
      "    {%- block markdowncell scoped-%} {%- endblock markdowncell -%}\n",
      "^^^^^\n",
      "  File \"C:\\Users\\sejal\\AppData\\Local\\Programs\\Python\\Python311\\share\\jupyter\\nbconvert\\templates\\lab\\base.html.j2\", line 108, in block 'markdowncell'\n",
      "    {%- set html_value=cell.source  | markdown2html | strip_files_prefix -%}\n",
      "    ^^^^^^^^^^^^^^^^^^^^^^^^^\n",
      "  File \"C:\\Users\\sejal\\AppData\\Local\\Programs\\Python\\Python311\\Lib\\site-packages\\nbconvert\\exporters\\html.py\", line 206, in markdown2html\n",
      "    return MarkdownWithMath(renderer=renderer).render(source)\n",
      "           ^^^^^^^^^^^^^^^^^^^^^^^^^^^^^^^^^^^^^^^^^^^^^^^^^^\n",
      "  File \"C:\\Users\\sejal\\AppData\\Local\\Programs\\Python\\Python311\\Lib\\site-packages\\nbconvert\\filters\\markdown_mistune.py\", line 147, in render\n",
      "    return self.parse(s)\n",
      "           ^^^^^^^^^^^^^\n",
      "  File \"C:\\Users\\sejal\\AppData\\Local\\Programs\\Python\\Python311\\Lib\\site-packages\\mistune\\markdown.py\", line 50, in parse\n",
      "    result = self.block.render(tokens, self.inline, state)\n",
      "             ^^^^^^^^^^^^^^^^^^^^^^^^^^^^^^^^^^^^^^^^^^^^^\n",
      "  File \"C:\\Users\\sejal\\AppData\\Local\\Programs\\Python\\Python311\\Lib\\site-packages\\mistune\\block_parser.py\", line 274, in render\n",
      "    return inline.renderer.finalize(data)\n",
      "           ^^^^^^^^^^^^^^^^^^^^^^^^^^^^^^\n",
      "  File \"C:\\Users\\sejal\\AppData\\Local\\Programs\\Python\\Python311\\Lib\\site-packages\\mistune\\renderers.py\", line 220, in finalize\n",
      "    return ''.join(data)\n",
      "           ^^^^^^^^^^^^^\n",
      "  File \"C:\\Users\\sejal\\AppData\\Local\\Programs\\Python\\Python311\\Lib\\site-packages\\mistune\\block_parser.py\", line 284, in _iter_render\n",
      "    children = self.render(tok['children'], inline, state)\n",
      "               ^^^^^^^^^^^^^^^^^^^^^^^^^^^^^^^^^^^^^^^^^^^\n",
      "  File \"C:\\Users\\sejal\\AppData\\Local\\Programs\\Python\\Python311\\Lib\\site-packages\\mistune\\block_parser.py\", line 274, in render\n",
      "    return inline.renderer.finalize(data)\n",
      "           ^^^^^^^^^^^^^^^^^^^^^^^^^^^^^^\n",
      "  File \"C:\\Users\\sejal\\AppData\\Local\\Programs\\Python\\Python311\\Lib\\site-packages\\mistune\\renderers.py\", line 220, in finalize\n",
      "    return ''.join(data)\n",
      "           ^^^^^^^^^^^^^\n",
      "  File \"C:\\Users\\sejal\\AppData\\Local\\Programs\\Python\\Python311\\Lib\\site-packages\\mistune\\block_parser.py\", line 291, in _iter_render\n",
      "    yield method(children, *params)\n",
      "          ^^^^^^^^^^^^^^^^^^^^^^^^^\n",
      "  File \"C:\\Users\\sejal\\AppData\\Local\\Programs\\Python\\Python311\\Lib\\site-packages\\nbconvert\\filters\\markdown_mistune.py\", line 180, in block_code\n",
      "    lang = info.strip().split(None, 1)[0]\n",
      "           ~~~~~~~~~~~~~~~~~~~~~~~~~~~^^^\n",
      "IndexError: list index out of range\n",
      "Traceback (most recent call last):\n",
      "  File \"C:\\Users\\sejal\\Downloads\\starter-kit\\src\\create_submit_pkg.py\", line 40, in <module>\n",
      "    create_submit_pkg()\n",
      "  File \"C:\\Users\\sejal\\Downloads\\starter-kit\\src\\create_submit_pkg.py\", line 20, in create_submit_pkg\n",
      "    subprocess.check_call(cmd_line, shell=True)\n",
      "  File \"C:\\Users\\sejal\\AppData\\Local\\Programs\\Python\\Python311\\Lib\\subprocess.py\", line 413, in check_call\n",
      "    raise CalledProcessError(retcode, cmd)\n",
      "subprocess.CalledProcessError: Command 'jupyter nbconvert --to html cnn_from_scratch.ipynb' returned non-zero exit status 1.\n"
     ]
    }
   ],
   "source": [
    "!python src/create_submit_pkg.py"
   ]
  },
  {
   "cell_type": "code",
   "execution_count": null,
   "id": "7cd7871c",
   "metadata": {},
   "outputs": [],
   "source": []
  }
 ],
 "metadata": {
  "kernelspec": {
   "display_name": "Python 3 (ipykernel)",
   "language": "python",
   "name": "python3"
  },
  "language_info": {
   "codemirror_mode": {
    "name": "ipython",
    "version": 3
   },
   "file_extension": ".py",
   "mimetype": "text/x-python",
   "name": "python",
   "nbconvert_exporter": "python",
   "pygments_lexer": "ipython3",
   "version": "3.11.0"
  },
  "widgets": {
   "application/vnd.jupyter.widget-state+json": {
    "state": {},
    "version_major": 2,
    "version_minor": 0
   }
  }
 },
 "nbformat": 4,
 "nbformat_minor": 5
}
